{
 "cells": [
  {
   "cell_type": "markdown",
   "id": "f7694e3e",
   "metadata": {},
   "source": [
    "# 11.03.2024 "
   ]
  },
  {
   "cell_type": "code",
   "execution_count": 1,
   "id": "3cc47c6c",
   "metadata": {
    "scrolled": true
   },
   "outputs": [
    {
     "name": "stdout",
     "output_type": "stream",
     "text": [
      "5\n",
      "3\n",
      "2\n",
      "4\n",
      "8\n",
      "7\n"
     ]
    }
   ],
   "source": [
    "#DFS GRAPH\n",
    "\n",
    "graph = {\n",
    "    '5' : ['3','7'],\n",
    "    '3' : ['2', '4'],\n",
    "    '7' : ['8'],\n",
    "    '2' : [],\n",
    "    '4' : ['8'],\n",
    "    '8' : []\n",
    "}\n",
    "visited = set()\n",
    "\n",
    "def dfs(visited, graph, node):\n",
    "    if node not in visited:\n",
    "        print (node)\n",
    "        visited.add(node)\n",
    "        for neighbour in graph[node]:\n",
    "            dfs(visited, graph, neighbour)\n",
    "dfs(visited, graph, '5')"
   ]
  },
  {
   "cell_type": "code",
   "execution_count": 10,
   "id": "30415ba6",
   "metadata": {},
   "outputs": [
    {
     "name": "stdout",
     "output_type": "stream",
     "text": [
      "5 3 7 2 4 8 "
     ]
    }
   ],
   "source": [
    "#BFS GRAPH \n",
    "\n",
    "\n",
    "graph = {\n",
    "    '5' : ['3','7'],\n",
    "    '3' : ['2', '4'],\n",
    "    '7' : ['8'],\n",
    "    '2' : [],\n",
    "    '4' : ['8'],\n",
    "    '8' : []\n",
    "}\n",
    "visited = []\n",
    "queue = []\n",
    "\n",
    "def bfs(visited, graph, node):\n",
    "    visited.append(node)\n",
    "    queue.append(node)\n",
    "    \n",
    "    while queue:\n",
    "        m = queue.pop(0)\n",
    "        print (m, end = \" \")\n",
    "        for neighbour in graph[m]:\n",
    "            if neighbour not in visited:\n",
    "                visited.append(neighbour)\n",
    "                queue.append(neighbour)\n",
    "bfs( visited, graph, '5')"
   ]
  },
  {
   "cell_type": "markdown",
   "id": "a1991981",
   "metadata": {},
   "source": [
    "# 12.03.2024"
   ]
  },
  {
   "cell_type": "code",
   "execution_count": 8,
   "id": "a00efc49",
   "metadata": {},
   "outputs": [
    {
     "name": "stdout",
     "output_type": "stream",
     "text": [
      "80\n"
     ]
    }
   ],
   "source": [
    "# TRAVELLING SALESMAN PROBLEM \n",
    "\n",
    "from sys import maxsize\n",
    "from itertools import permutations\n",
    "v = 4\n",
    "def travelling_salesman_problem(graph, s):\n",
    "    vertex = []\n",
    "    for i in range(v):\n",
    "        if i != s:\n",
    "            vertex.append(i)\n",
    "    min_path = maxsize\n",
    "    next_permutation = permutations(vertex)\n",
    "    for i in next_permutation:\n",
    "        current_pathweight = 0\n",
    "        k = s\n",
    "        for j in i:\n",
    "            current_pathweight += graph[k][j]\n",
    "            k = j\n",
    "        current_pathweight += graph[k][s]\n",
    "        min_path = min(min_path, current_pathweight)\n",
    "    return min_path\n",
    "\n",
    "if __name__ == \"__main__\":\n",
    "    graph = [[0, 10, 15, 20], [10, 0, 35, 25], [15, 35, 0, 30], [20, 25, 30, 0]]\n",
    "    s = 0\n",
    "    print(travelling_salesman_problem(graph, s))\n",
    "        "
   ]
  },
  {
   "cell_type": "markdown",
   "id": "c9bded88",
   "metadata": {},
   "source": [
    "# 18.03.2024"
   ]
  },
  {
   "cell_type": "code",
   "execution_count": 10,
   "id": "16c2d19e",
   "metadata": {},
   "outputs": [
    {
     "name": "stdout",
     "output_type": "stream",
     "text": [
      "Move disk 1 from source A to destination B\n",
      "Move disk 2 from source A to destination C\n",
      "Move disk 1 from source B to destination C\n",
      "Move disk 3 from source A to destination B\n",
      "Move disk 1 from source C to destination A\n",
      "Move disk 2 from source C to destination B\n",
      "Move disk 1 from source A to destination B\n"
     ]
    }
   ],
   "source": [
    "# Tower of Hanoi Algorithm Implementation\n",
    "\n",
    "\n",
    "def TowerOfHanoi(n , source, destination, auxiliary):\n",
    "    if n==1:\n",
    "        print (\"Move disk 1 from source\",source,\"to destination\",destination)\n",
    "        return\n",
    "    TowerOfHanoi(n-1, source, auxiliary, destination)\n",
    "    print (\"Move disk\",n,\"from source\",source,\"to destination\",destination)\n",
    "    TowerOfHanoi(n-1, auxiliary, destination, source)\n",
    "\n",
    "\n",
    "n = 3\n",
    "TowerOfHanoi(n,'A','B','C') \n",
    "\n",
    "\n",
    "\n"
   ]
  },
  {
   "cell_type": "markdown",
   "id": "f8077f02-cd05-479b-ae86-9ce8af19245a",
   "metadata": {},
   "source": [
    "# 01.04.2024"
   ]
  },
  {
   "cell_type": "code",
   "execution_count": 1,
   "id": "b3547d28",
   "metadata": {},
   "outputs": [
    {
     "name": "stdin",
     "output_type": "stream",
     "text": [
      "Enter Number 5\n"
     ]
    },
    {
     "name": "stdout",
     "output_type": "stream",
     "text": [
      "0\n",
      "1\n",
      "1\n",
      "2\n",
      "3\n",
      "5\n"
     ]
    }
   ],
   "source": [
    "n=int(input(\"Enter Number\"))\n",
    "x=0\n",
    "y=1  \n",
    "z=0\n",
    "while(z<=n):\n",
    "    print(z)\n",
    "    x=y \n",
    "    y=z \n",
    "    z=x+y"
   ]
  },
  {
   "cell_type": "code",
   "execution_count": 2,
   "id": "b16a6874",
   "metadata": {},
   "outputs": [
    {
     "name": "stdin",
     "output_type": "stream",
     "text": [
      "Enter length of side a:  45\n",
      "Enter length of side b:  45\n",
      "Enter length of side c:  90\n"
     ]
    },
    {
     "name": "stdout",
     "output_type": "stream",
     "text": [
      "Triangle is Isosceles.\n"
     ]
    }
   ],
   "source": [
    "# Validity of Triangle given sides\n",
    "\n",
    "# Function definition to check validity\n",
    "def is_valid_triangle(a,b,c):\n",
    "    if a+b>=c and b+c>=a and c+a>=b:\n",
    "        return True\n",
    "    else:\n",
    "        return False\n",
    "\n",
    "# Function definition for type\n",
    "def type_of_triangle(a,b,c):\n",
    "    if a==b and b==c:\n",
    "        print('Triangle is Equilateral.')\n",
    "    elif a==b or b==c or a==c:\n",
    "        print('Triangle is Isosceles.')\n",
    "    else:\n",
    "        print('Triangle is Scalane')\n",
    "\n",
    "# Reading Three Sides\n",
    "side_a = float(input('Enter length of side a: '))\n",
    "side_b = float(input('Enter length of side b: '))\n",
    "side_c = float(input('Enter length of side c: '))\n",
    "\n",
    "# Function call & making decision\n",
    "if is_valid_triangle(side_a, side_b, side_c):\n",
    "    type_of_triangle(side_a, side_b, side_c)\n",
    "else:\n",
    "    print('Tringle is not possible from given sides.')"
   ]
  },
  {
   "cell_type": "code",
   "execution_count": 3,
   "id": "a44ba254",
   "metadata": {},
   "outputs": [
    {
     "name": "stdin",
     "output_type": "stream",
     "text": [
      "Enter the Triangle Side-1 : 45\n",
      "Enter the Triangle Side-2 : 45\n",
      "Enter the Triangle Side-3 : 90\n"
     ]
    },
    {
     "name": "stdout",
     "output_type": "stream",
     "text": [
      "Triangle Valid..\n"
     ]
    }
   ],
   "source": [
    "s1 = int(input(\"Enter the Triangle Side-1 :\"))\n",
    "s2 = int(input(\"Enter the Triangle Side-2 :\"))\n",
    "s3 = int(input(\"Enter the Triangle Side-3 :\"))\n",
    "sum = s1+s2+s3\n",
    "if(sum==180):\n",
    "\tprint(\"Triangle Valid..\")\n",
    "else:\n",
    "\tprint(\"Triangle Not Valid..\")"
   ]
  },
  {
   "cell_type": "markdown",
   "id": "68b925ce-958d-4a1b-9287-cf52a62e2a06",
   "metadata": {},
   "source": [
    "# 02.04.2024"
   ]
  },
  {
   "cell_type": "code",
   "execution_count": 4,
   "id": "6d9c606e",
   "metadata": {},
   "outputs": [
    {
     "name": "stdout",
     "output_type": "stream",
     "text": [
      "Consonant\n",
      "Vowel\n"
     ]
    }
   ],
   "source": [
    "# Python3 program to check if a given \n",
    "# character is vowel or consonant. \n",
    "\n",
    "# Function to check whether a character \n",
    "# is vowel or not \n",
    "def vowelOrConsonant(x): \n",
    "\n",
    "\tif (x == 'a' or x == 'e' or\n",
    "\t\tx == 'i' or x == 'o' or x == 'u'): \n",
    "\t\tprint(\"Vowel\") \n",
    "\telse: \n",
    "\t\tprint(\"Consonant\") \n",
    "\n",
    "# Driver code \n",
    "vowelOrConsonant('c') \n",
    "vowelOrConsonant('e') \n",
    "\t\n"
   ]
  },
  {
   "cell_type": "code",
   "execution_count": 5,
   "id": "511aa87a",
   "metadata": {},
   "outputs": [
    {
     "name": "stdout",
     "output_type": "stream",
     "text": [
      "The length of list is:  3\n"
     ]
    }
   ],
   "source": [
    "# Python len()\n",
    "li = [10, 20, 30]\n",
    "n = len(li)\n",
    "print(\"The length of list is: \", n)\n"
   ]
  },
  {
   "cell_type": "code",
   "execution_count": 7,
   "id": "1293841a",
   "metadata": {},
   "outputs": [
    {
     "name": "stdout",
     "output_type": "stream",
     "text": [
      "[15, 14, 13, 12, 11, 10]\n"
     ]
    }
   ],
   "source": [
    "# Reversing a list using slicing technique\n",
    "def Reverse(lst):\n",
    "    new_lst = lst[::-1]\n",
    "    return new_lst\n",
    "\n",
    "\n",
    "lst = [10, 11, 12, 13, 14, 15]\n",
    "print(Reverse(lst))\n"
   ]
  },
  {
   "cell_type": "markdown",
   "id": "0f77e7ca-322a-4a1c-8b08-0cd0cbcbdca4",
   "metadata": {},
   "source": [
    "# 8.04.2024"
   ]
  },
  {
   "cell_type": "code",
   "execution_count": 2,
   "id": "bc27f7cf",
   "metadata": {},
   "outputs": [
    {
     "name": "stdout",
     "output_type": "stream",
     "text": [
      "The destination cell is found\n",
      "The Path is \n",
      "-> (8, 0) -> (7, 0) -> (6, 0) -> (5, 0) -> (4, 1) -> (3, 2) -> (2, 1) -> (1, 0) -> (0, 0) \n"
     ]
    }
   ],
   "source": [
    "# A * Problem \n",
    "\n",
    "\n",
    "import math\n",
    "import heapq\n",
    "\n",
    "# Define the Cell class\n",
    "class Cell:\n",
    "\tdef __init__(self):\n",
    "\t\tself.parent_i = 0 # Parent cell's row index\n",
    "\t\tself.parent_j = 0 # Parent cell's column index\n",
    "\t\tself.f = float('inf') # Total cost of the cell (g + h)\n",
    "\t\tself.g = float('inf') # Cost from start to this cell\n",
    "\t\tself.h = 0 # Heuristic cost from this cell to destination\n",
    "\n",
    "# Define the size of the grid\n",
    "ROW = 9\n",
    "COL = 10\n",
    "\n",
    "# Check if a cell is valid (within the grid)\n",
    "def is_valid(row, col):\n",
    "\treturn (row >= 0) and (row < ROW) and (col >= 0) and (col < COL)\n",
    "\n",
    "# Check if a cell is unblocked\n",
    "def is_unblocked(grid, row, col):\n",
    "\treturn grid[row][col] == 1\n",
    "\n",
    "# Check if a cell is the destination\n",
    "def is_destination(row, col, dest):\n",
    "\treturn row == dest[0] and col == dest[1]\n",
    "\n",
    "# Calculate the heuristic value of a cell (Euclidean distance to destination)\n",
    "def calculate_h_value(row, col, dest):\n",
    "\treturn ((row - dest[0]) ** 2 + (col - dest[1]) ** 2) ** 0.5\n",
    "\n",
    "# Trace the path from source to destination\n",
    "def trace_path(cell_details, dest):\n",
    "\tprint(\"The Path is \")\n",
    "\tpath = []\n",
    "\trow = dest[0]\n",
    "\tcol = dest[1]\n",
    "\n",
    "\t# Trace the path from destination to source using parent cells\n",
    "\twhile not (cell_details[row][col].parent_i == row and cell_details[row][col].parent_j == col):\n",
    "\t\tpath.append((row, col))\n",
    "\t\ttemp_row = cell_details[row][col].parent_i\n",
    "\t\ttemp_col = cell_details[row][col].parent_j\n",
    "\t\trow = temp_row\n",
    "\t\tcol = temp_col\n",
    "\n",
    "\t# Add the source cell to the path\n",
    "\tpath.append((row, col))\n",
    "\t# Reverse the path to get the path from source to destination\n",
    "\tpath.reverse()\n",
    "\n",
    "\t# Print the path\n",
    "\tfor i in path:\n",
    "\t\tprint(\"->\", i, end=\" \")\n",
    "\tprint()\n",
    "\n",
    "# Implement the A* search algorithm\n",
    "def a_star_search(grid, src, dest):\n",
    "\t# Check if the source and destination are valid\n",
    "\tif not is_valid(src[0], src[1]) or not is_valid(dest[0], dest[1]):\n",
    "\t\tprint(\"Source or destination is invalid\")\n",
    "\t\treturn\n",
    "\n",
    "\t# Check if the source and destination are unblocked\n",
    "\tif not is_unblocked(grid, src[0], src[1]) or not is_unblocked(grid, dest[0], dest[1]):\n",
    "\t\tprint(\"Source or the destination is blocked\")\n",
    "\t\treturn\n",
    "\n",
    "\t# Check if we are already at the destination\n",
    "\tif is_destination(src[0], src[1], dest):\n",
    "\t\tprint(\"We are already at the destination\")\n",
    "\t\treturn\n",
    "\n",
    "\t# Initialize the closed list (visited cells)\n",
    "\tclosed_list = [[False for _ in range(COL)] for _ in range(ROW)]\n",
    "\t# Initialize the details of each cell\n",
    "\tcell_details = [[Cell() for _ in range(COL)] for _ in range(ROW)]\n",
    "\n",
    "\t# Initialize the start cell details\n",
    "\ti = src[0]\n",
    "\tj = src[1]\n",
    "\tcell_details[i][j].f = 0\n",
    "\tcell_details[i][j].g = 0\n",
    "\tcell_details[i][j].h = 0\n",
    "\tcell_details[i][j].parent_i = i\n",
    "\tcell_details[i][j].parent_j = j\n",
    "\n",
    "\t# Initialize the open list (cells to be visited) with the start cell\n",
    "\topen_list = []\n",
    "\theapq.heappush(open_list, (0.0, i, j))\n",
    "\n",
    "\t# Initialize the flag for whether destination is found\n",
    "\tfound_dest = False\n",
    "\n",
    "\t# Main loop of A* search algorithm\n",
    "\twhile len(open_list) > 0:\n",
    "\t\t# Pop the cell with the smallest f value from the open list\n",
    "\t\tp = heapq.heappop(open_list)\n",
    "\n",
    "\t\t# Mark the cell as visited\n",
    "\t\ti = p[1]\n",
    "\t\tj = p[2]\n",
    "\t\tclosed_list[i][j] = True\n",
    "\n",
    "\t\t# For each direction, check the successors\n",
    "\t\tdirections = [(0, 1), (0, -1), (1, 0), (-1, 0), (1, 1), (1, -1), (-1, 1), (-1, -1)]\n",
    "\t\tfor dir in directions:\n",
    "\t\t\tnew_i = i + dir[0]\n",
    "\t\t\tnew_j = j + dir[1]\n",
    "\n",
    "\t\t\t# If the successor is valid, unblocked, and not visited\n",
    "\t\t\tif is_valid(new_i, new_j) and is_unblocked(grid, new_i, new_j) and not closed_list[new_i][new_j]:\n",
    "\t\t\t\t# If the successor is the destination\n",
    "\t\t\t\tif is_destination(new_i, new_j, dest):\n",
    "\t\t\t\t\t# Set the parent of the destination cell\n",
    "\t\t\t\t\tcell_details[new_i][new_j].parent_i = i\n",
    "\t\t\t\t\tcell_details[new_i][new_j].parent_j = j\n",
    "\t\t\t\t\tprint(\"The destination cell is found\")\n",
    "\t\t\t\t\t# Trace and print the path from source to destination\n",
    "\t\t\t\t\ttrace_path(cell_details, dest)\n",
    "\t\t\t\t\tfound_dest = True\n",
    "\t\t\t\t\treturn\n",
    "\t\t\t\telse:\n",
    "\t\t\t\t\t# Calculate the new f, g, and h values\n",
    "\t\t\t\t\tg_new = cell_details[i][j].g + 1.0\n",
    "\t\t\t\t\th_new = calculate_h_value(new_i, new_j, dest)\n",
    "\t\t\t\t\tf_new = g_new + h_new\n",
    "\n",
    "\t\t\t\t\t# If the cell is not in the open list or the new f value is smaller\n",
    "\t\t\t\t\tif cell_details[new_i][new_j].f == float('inf') or cell_details[new_i][new_j].f > f_new:\n",
    "\t\t\t\t\t\t# Add the cell to the open list\n",
    "\t\t\t\t\t\theapq.heappush(open_list, (f_new, new_i, new_j))\n",
    "\t\t\t\t\t\t# Update the cell details\n",
    "\t\t\t\t\t\tcell_details[new_i][new_j].f = f_new\n",
    "\t\t\t\t\t\tcell_details[new_i][new_j].g = g_new\n",
    "\t\t\t\t\t\tcell_details[new_i][new_j].h = h_new\n",
    "\t\t\t\t\t\tcell_details[new_i][new_j].parent_i = i\n",
    "\t\t\t\t\t\tcell_details[new_i][new_j].parent_j = j\n",
    "\n",
    "\t# If the destination is not found after visiting all cells\n",
    "\tif not found_dest:\n",
    "\t\tprint(\"Failed to find the destination cell\")\n",
    "\n",
    "def main():\n",
    "\t# Define the grid (1 for unblocked, 0 for blocked)\n",
    "\tgrid = [\n",
    "\t\t[1, 0, 1, 1, 1, 1, 0, 1, 1, 1],\n",
    "\t\t[1, 1, 1, 0, 1, 1, 1, 0, 1, 1],\n",
    "\t\t[1, 1, 1, 0, 1, 1, 0, 1, 0, 1],\n",
    "\t\t[0, 0, 1, 0, 1, 0, 0, 0, 0, 1],\n",
    "\t\t[1, 1, 1, 0, 1, 1, 1, 0, 1, 0],\n",
    "\t\t[1, 0, 1, 1, 1, 1, 0, 1, 0, 0],\n",
    "\t\t[1, 0, 0, 0, 0, 1, 0, 0, 0, 1],\n",
    "\t\t[1, 0, 1, 1, 1, 1, 0, 1, 1, 1],\n",
    "\t\t[1, 1, 1, 0, 0, 0, 1, 0, 0, 1]\n",
    "\t]\n",
    "\n",
    "\t# Define the source and destination\n",
    "\tsrc = [8, 0]\n",
    "\tdest = [0, 0]\n",
    "\n",
    "\t# Run the A* search algorithm\n",
    "\ta_star_search(grid, src, dest)\n",
    "\n",
    "if __name__ == \"__main__\":\n",
    "\tmain()\n",
    "\n",
    "\n"
   ]
  },
  {
   "cell_type": "code",
   "execution_count": null,
   "id": "ac6d3717",
   "metadata": {},
   "outputs": [],
   "source": []
  },
  {
   "cell_type": "code",
   "execution_count": null,
   "id": "0980d6ee-ee48-4d2b-aaa8-0cdf549cfc16",
   "metadata": {},
   "outputs": [],
   "source": []
  },
  {
   "cell_type": "code",
   "execution_count": null,
   "id": "29308794-a0e3-450c-b969-86c7f6e34183",
   "metadata": {},
   "outputs": [],
   "source": []
  },
  {
   "cell_type": "code",
   "execution_count": null,
   "id": "75547fc7-2644-490f-afe4-555af40ad0c6",
   "metadata": {},
   "outputs": [],
   "source": []
  },
  {
   "cell_type": "code",
   "execution_count": null,
   "id": "c363ebe5-b852-43aa-abb4-e640e28d7a8a",
   "metadata": {},
   "outputs": [],
   "source": []
  },
  {
   "cell_type": "code",
   "execution_count": null,
   "id": "785564c7-c419-494c-ba9f-f05269712517",
   "metadata": {},
   "outputs": [],
   "source": []
  },
  {
   "cell_type": "code",
   "execution_count": null,
   "id": "92aab28f-de94-415d-bd3a-e9833183fb08",
   "metadata": {},
   "outputs": [],
   "source": []
  },
  {
   "cell_type": "code",
   "execution_count": null,
   "id": "89ee6570-fede-4674-b831-c771a62804ed",
   "metadata": {},
   "outputs": [],
   "source": []
  },
  {
   "cell_type": "code",
   "execution_count": null,
   "id": "b80a460d-3410-46f6-9db7-94e9e7bc53db",
   "metadata": {},
   "outputs": [],
   "source": []
  },
  {
   "cell_type": "code",
   "execution_count": null,
   "id": "c8135f94-8464-41e3-982d-4a3dd31a5770",
   "metadata": {},
   "outputs": [],
   "source": []
  },
  {
   "cell_type": "code",
   "execution_count": null,
   "id": "f2fd0e9e-dbf3-4b3c-9431-35b18cabf219",
   "metadata": {},
   "outputs": [],
   "source": []
  }
 ],
 "metadata": {
  "kernelspec": {
   "display_name": "Python 3 (ipykernel)",
   "language": "python",
   "name": "python3"
  },
  "language_info": {
   "codemirror_mode": {
    "name": "ipython",
    "version": 3
   },
   "file_extension": ".py",
   "mimetype": "text/x-python",
   "name": "python",
   "nbconvert_exporter": "python",
   "pygments_lexer": "ipython3",
   "version": "3.11.7"
  }
 },
 "nbformat": 4,
 "nbformat_minor": 5
}

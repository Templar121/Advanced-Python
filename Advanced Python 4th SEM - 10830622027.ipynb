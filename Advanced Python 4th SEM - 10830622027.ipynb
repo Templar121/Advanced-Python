{
 "cells": [
  {
   "cell_type": "markdown",
   "id": "9708f0e1",
   "metadata": {},
   "source": [
    "# 11.03.2024"
   ]
  },
  {
   "cell_type": "code",
   "execution_count": 6,
   "id": "7678219e",
   "metadata": {},
   "outputs": [
    {
     "name": "stdout",
     "output_type": "stream",
     "text": [
      "Enter the first number:12\n",
      "Enter the second number:54\n",
      "66\n"
     ]
    }
   ],
   "source": [
    "class sum:\n",
    "    def add(self):\n",
    "        print(a+b)\n",
    "a=int(input(\"Enter the first number:\"))\n",
    "b=int(input(\"Enter the second number:\"))\n",
    "obj1=sum()\n",
    "obj1.add()"
   ]
  },
  {
   "cell_type": "code",
   "execution_count": null,
   "id": "c049d245",
   "metadata": {},
   "outputs": [],
   "source": [
    "class cal:\n",
    "    def getdata(self):\n",
    "        self.a=int(input(\"Enter the number:\"))\n",
    "        self.b=int(input(\"Enter the number:\"))\n",
    "    def printt(self):\n",
    "        self.sum=self.a+self.b\n",
    "        print(\"Sum of the numbers:-\",self.sum)\n",
    "ob=cal()\n",
    "ob.getdata()\n",
    "ob.print()"
   ]
  },
  {
   "cell_type": "markdown",
   "id": "e5a82921",
   "metadata": {},
   "source": [
    "# 12.03.2024"
   ]
  },
  {
   "cell_type": "code",
   "execution_count": 7,
   "id": "f3cb355c",
   "metadata": {},
   "outputs": [
    {
     "name": "stdout",
     "output_type": "stream",
     "text": [
      "Asansol Engineering College\n"
     ]
    }
   ],
   "source": [
    "file = open('AIML008.txt', 'r')\n",
    "for i in file:\n",
    "    print(i)"
   ]
  },
  {
   "cell_type": "code",
   "execution_count": 8,
   "id": "6cf631d8",
   "metadata": {},
   "outputs": [
    {
     "name": "stdout",
     "output_type": "stream",
     "text": [
      "Asansol Engineering College\n"
     ]
    }
   ],
   "source": [
    "file = open('AIML008.txt', 'r')\n",
    "print(file.read())"
   ]
  },
  {
   "cell_type": "code",
   "execution_count": 12,
   "id": "bc1943f6",
   "metadata": {},
   "outputs": [
    {
     "name": "stdout",
     "output_type": "stream",
     "text": [
      "Asanso\n"
     ]
    }
   ],
   "source": [
    "file = open('AIML008.txt', 'r')\n",
    "print(file.read(6))"
   ]
  },
  {
   "cell_type": "code",
   "execution_count": 25,
   "id": "338b3002",
   "metadata": {},
   "outputs": [
    {
     "name": "stdout",
     "output_type": "stream",
     "text": [
      "Name - Subhayan Mukherjee\n",
      "Roll - 10830622027\n",
      "Dept - AIML\n"
     ]
    }
   ],
   "source": [
    "file = open('AIML008.txt', 'r')\n",
    "print(file.read())"
   ]
  },
  {
   "cell_type": "code",
   "execution_count": 36,
   "id": "5ea40be0",
   "metadata": {},
   "outputs": [
    {
     "name": "stdout",
     "output_type": "stream",
     "text": [
      "131 is prime\n"
     ]
    }
   ],
   "source": [
    "file = open('AIML008.txt', 'r')\n",
    "a = int(file.read())\n",
    "for i in range(2, a):\n",
    "    if (a % i) == 0:\n",
    "        print(f\"{a} is not prime\")\n",
    "        break\n",
    "else:\n",
    "    print(f\"{a} is prime\")\n",
    "    "
   ]
  },
  {
   "cell_type": "code",
   "execution_count": 64,
   "id": "b35db2af",
   "metadata": {},
   "outputs": [
    {
     "name": "stdout",
     "output_type": "stream",
     "text": [
      "M is a consonant\n",
      "y is a consonant\n",
      "  is a space\n",
      "n is a consonant\n",
      "a is a vowel\n",
      "m is a consonant\n",
      "e is a vowel\n",
      "  is a space\n",
      "i is a vowel\n",
      "s is a consonant\n",
      "  is a space\n",
      "S is a consonant\n",
      "u is a vowel\n",
      "b is a consonant\n",
      "h is a consonant\n",
      "a is a vowel\n",
      "y is a consonant\n",
      "a is a vowel\n",
      "n is a consonant\n",
      "  is a space\n",
      "6\n",
      "10\n"
     ]
    }
   ],
   "source": [
    "file = open('AIML008.txt', 'r')\n",
    "vowel = 0\n",
    "consonant = 0\n",
    "a = file.read()\n",
    "for i in a:\n",
    "    if (i == 'a'or i == 'A' or i =='e'or i == 'E' or i == 'i'or i == 'I' or i == 'o' or i == 'O' or i == 'u'or i == 'U'):\n",
    "        print(f\"{i} is a vowel\")\n",
    "        vowel = vowel + 1\n",
    "    elif (i == \" \"):\n",
    "        print(f\"{i} is a space\")\n",
    "    else:\n",
    "        print(f\"{i} is a consonant\")\n",
    "        consonant = consonant + 1\n",
    "print(vowel)\n",
    "print(consonant)"
   ]
  },
  {
   "cell_type": "code",
   "execution_count": 73,
   "id": "fececde5",
   "metadata": {},
   "outputs": [],
   "source": [
    "file = open('AIML008.txt', 'w')\n",
    "file.write(\"Hello... \")\n",
    "file.close()"
   ]
  },
  {
   "cell_type": "code",
   "execution_count": 66,
   "id": "796aa332",
   "metadata": {},
   "outputs": [],
   "source": [
    "a = open('Arnab.txt', 'w')\n",
    "a.write(\"Smart India Hackathon\")\n",
    "a.close()"
   ]
  },
  {
   "cell_type": "code",
   "execution_count": 74,
   "id": "bff4e7fe",
   "metadata": {},
   "outputs": [],
   "source": [
    "file = open('AIML008.txt', 'a')\n",
    "file.write(\"How are You \")\n",
    "file.close()"
   ]
  },
  {
   "cell_type": "code",
   "execution_count": 82,
   "id": "81d6f940",
   "metadata": {},
   "outputs": [
    {
     "name": "stdout",
     "output_type": "stream",
     "text": [
      "Enter Maximum Number of Numbers you want to Enter5\n",
      "Enter the Number89\n",
      "Enter the Number41\n",
      "Enter the Number75\n",
      "Enter the Number36\n",
      "Enter the Number25\n"
     ]
    }
   ],
   "source": [
    "file = open('AIML008.txt', 'a')\n",
    "n = int(input(\"Enter Maximum Number of Numbers you want to Enter\"))\n",
    "for i in range (0, n):\n",
    "    a = str(input(\"Enter the Number\"))\n",
    "    file.write(a)\n",
    "file.close()"
   ]
  },
  {
   "cell_type": "code",
   "execution_count": 83,
   "id": "57fd80ac",
   "metadata": {},
   "outputs": [
    {
     "name": "stdout",
     "output_type": "stream",
     "text": [
      "Hello... How are You 568713458891041362548941753625\n"
     ]
    }
   ],
   "source": [
    "file = open('AIML008.txt', 'r')\n",
    "print(file.read())"
   ]
  },
  {
   "cell_type": "code",
   "execution_count": 92,
   "id": "2449be41",
   "metadata": {},
   "outputs": [
    {
     "name": "stdout",
     "output_type": "stream",
     "text": [
      "69 is the number of words\n"
     ]
    }
   ],
   "source": [
    "file = open('AIML008.txt', 'r')\n",
    "count = 0\n",
    "a = file.read()\n",
    "for i in a:\n",
    "    if (i == \" \"):\n",
    "        count = count + 1\n",
    "print(f\"{count} is the number of words\")\n"
   ]
  },
  {
   "cell_type": "markdown",
   "id": "14599fb4",
   "metadata": {},
   "source": [
    "# 18.03.2024"
   ]
  },
  {
   "cell_type": "code",
   "execution_count": 2,
   "id": "cf0ebb2b",
   "metadata": {},
   "outputs": [],
   "source": [
    "# GUI Programming usinG Tkinter\n",
    "\n",
    "import tkinter\n",
    "top = tkinter.Tk()\n",
    "top.mainloop()"
   ]
  },
  {
   "cell_type": "code",
   "execution_count": 55,
   "id": "44e2e9e8",
   "metadata": {},
   "outputs": [],
   "source": [
    "from tkinter import *\n",
    "root = Tk()\n",
    "root.title(\"Hello Python\")\n",
    "#root.config(bg = \"seagreen\" )\n",
    "class Mywindow:\n",
    "    def __init__(self,master):\n",
    "        \n",
    "        self.l1 = Label(master, text = \"Enter 1st Number:\", font = (\"Times New Roman\", 15, \"bold\"))\n",
    "        self.l1.place(x = 10, y = 50)\n",
    "        self.t1 = Entry(bd = 3, font = (\"arial\", 12, \"bold\"))\n",
    "        self.t1.place(x = 250, y = 50)\n",
    "        \n",
    "        \n",
    "        self.l2 = Label(master, text = \"Enter 2nd Number:\", font = (\"Times New Roman\", 15, \"bold\"))\n",
    "        self.l2.place(x = 10, y = 100)\n",
    "        self.t2 = Entry(bd = 3, font = (\"arial\", 12, \"bold\"))\n",
    "        self.t2.place(x = 250, y = 100)\n",
    "        \n",
    "        self.l3 = Label(master, text = \"Sum of Two Numbers is:\", font = (\"Times New Roman\", 15, \"bold\"))\n",
    "        self.l3.place(x = 10, y = 150)\n",
    "        self.t3 = Entry(bd = 3, font = (\"arial\", 12, \"bold\"))\n",
    "        self.t3.place(x = 250, y = 150)\n",
    "        \n",
    "        \n",
    "\n",
    "       \n",
    "        \n",
    "        \n",
    "        \n",
    "        \n",
    "mywin = Mywindow(root)\n",
    "root.mainloop()"
   ]
  },
  {
   "cell_type": "markdown",
   "id": "f810d84f-79c3-4f6f-adde-089fc7e24234",
   "metadata": {},
   "source": [
    "# 01.04.2024"
   ]
  },
  {
   "cell_type": "code",
   "execution_count": null,
   "id": "dcd51328",
   "metadata": {},
   "outputs": [],
   "source": [
    "# Calculate Sum using tkinter\n",
    "\n",
    "from tkinter import *\n",
    "\n",
    "root = Tk()\n",
    "root.title(\"Hello Python\")\n",
    "\n",
    "class Mywindow:\n",
    "    def __init__(self, master):\n",
    "        self.l1 = Label(master, text=\"Enter 1st Number:\", font=(\"Times New Roman\", 15, \"bold\"))\n",
    "        self.l1.place(x=10, y=50)\n",
    "        self.t1 = Entry(bd=3, font=(\"arial\", 12, \"bold\"))\n",
    "        self.t1.place(x=250, y=50)\n",
    "\n",
    "        self.l2 = Label(master, text=\"Enter 2nd Number:\", font=(\"Times New Roman\", 15, \"bold\"))\n",
    "        self.l2.place(x=10, y=100)\n",
    "        self.t2 = Entry(bd=3, font=(\"arial\", 12, \"bold\"))\n",
    "        self.t2.place(x=250, y=100)\n",
    "\n",
    "        self.l3 = Label(master, text=\"Sum of Two Numbers is:\", font=(\"Times New Roman\", 15, \"bold\"))\n",
    "        self.l3.place(x=10, y=150)\n",
    "        self.t3 = Entry(bd=3, font=(\"arial\", 12, \"bold\"))\n",
    "        self.t3.place(x=250, y=150)\n",
    "\n",
    "        self.btn = Button(master, text=\"Calculate\", command=self.calculate_sum, font=(\"arial\", 12, \"bold\"))\n",
    "        self.btn.place(x=200, y=200)\n",
    "\n",
    "    def calculate_sum(self):\n",
    "        try:\n",
    "            num1 = float(self.t1.get())\n",
    "            num2 = float(self.t2.get())\n",
    "            result = num1 + num2\n",
    "            self.t3.delete(0, END)  # Clear any previous result\n",
    "            self.t3.insert(0, str(result))  # Display the result\n",
    "        except ValueError:\n",
    "            self.t3.delete(0, END)\n",
    "            self.t3.insert(0, \"Invalid Input\")\n",
    "\n",
    "\n",
    "mywin = Mywindow(root)\n",
    "root.mainloop()\n"
   ]
  },
  {
   "cell_type": "code",
   "execution_count": 9,
   "id": "36400354",
   "metadata": {},
   "outputs": [],
   "source": [
    "# Check whether a number is prime or not \n",
    "\n",
    "from tkinter import *\n",
    "from tkinter import messagebox\n",
    "\n",
    "root = Tk()\n",
    "root.title(\"Prime Number Checker\")\n",
    "\n",
    "class MyWindow:\n",
    "    def __init__(self, master):\n",
    "        self.l1 = Label(master, text=\"Enter a Number:\", font=(\"Times New Roman\", 35, \"bold\"))\n",
    "        self.l1.place(x=10, y=50)\n",
    "        self.t1 = Entry(bd=3, font=(\"arial\", 30, \"bold\"))\n",
    "        self.t1.place(x=400, y=50)\n",
    "\n",
    "        self.btn = Button(master, text=\"Check Prime\", command=self.check_prime, font=(\"arial\", 12, \"bold\"))\n",
    "        self.btn.place(x=200, y=200)\n",
    "\n",
    "    def is_prime(self, num):\n",
    "        if num <= 1:\n",
    "            return False\n",
    "        if num <= 3:\n",
    "            return True\n",
    "        if num % 2 == 0 or num % 3 == 0:\n",
    "            return False\n",
    "        i = 5\n",
    "        while i * i <= num:\n",
    "            if num % i == 0 or num % (i + 2) == 0:\n",
    "                return False\n",
    "            i += 6\n",
    "        return True\n",
    "\n",
    "    def check_prime(self):\n",
    "        try:\n",
    "            num = int(self.t1.get())\n",
    "            if self.is_prime(num):\n",
    "                messagebox.showinfo(\"Result\", f\"{num} is a Prime Number\")\n",
    "            else:\n",
    "                messagebox.showinfo(\"Result\", f\"{num} is not a Prime Number\")\n",
    "        except ValueError:\n",
    "            messagebox.showerror(\"Error\", \"Invalid Input. Please enter a valid integer.\")\n",
    "\n",
    "\n",
    "my_window = MyWindow(root)\n",
    "root.mainloop()\n"
   ]
  },
  {
   "cell_type": "markdown",
   "id": "6e926670-7f16-4bac-a0c2-564b34eac43f",
   "metadata": {},
   "source": [
    "# 02.04.2024"
   ]
  },
  {
   "cell_type": "code",
   "execution_count": 2,
   "id": "131ad61d",
   "metadata": {},
   "outputs": [
    {
     "name": "stdout",
     "output_type": "stream",
     "text": [
      "<mysql.connector.connection_cext.CMySQLConnection object at 0x000001D5A447FE50>\n"
     ]
    },
    {
     "name": "stderr",
     "output_type": "stream",
     "text": [
      "Exception in Tkinter callback\n",
      "Traceback (most recent call last):\n",
      "  File \"c:\\Users\\MMLab\\AppData\\Local\\Programs\\Python\\Python310\\lib\\site-packages\\mysql\\connector\\connection_cext.py\", line 661, in cmd_query\n",
      "    self._cmysql.query(\n",
      "_mysql_connector.MySQLInterfaceError: Unknown column 'phno' in 'field list'\n",
      "\n",
      "The above exception was the direct cause of the following exception:\n",
      "\n",
      "Traceback (most recent call last):\n",
      "  File \"c:\\Users\\MMLab\\AppData\\Local\\Programs\\Python\\Python310\\lib\\tkinter\\__init__.py\", line 1921, in __call__\n",
      "    return self.func(*args)\n",
      "  File \"C:\\Users\\MMLab\\AppData\\Local\\Temp\\ipykernel_8004\\77285459.py\", line 36, in submit_form\n",
      "    mycursor.execute(sql, val)\n",
      "  File \"c:\\Users\\MMLab\\AppData\\Local\\Programs\\Python\\Python310\\lib\\site-packages\\mysql\\connector\\cursor_cext.py\", line 374, in execute\n",
      "    result = self._cnx.cmd_query(\n",
      "  File \"c:\\Users\\MMLab\\AppData\\Local\\Programs\\Python\\Python310\\lib\\site-packages\\mysql\\connector\\opentelemetry\\context_propagation.py\", line 74, in wrapper\n",
      "    return method(cnx, *args, **kwargs)\n",
      "  File \"c:\\Users\\MMLab\\AppData\\Local\\Programs\\Python\\Python310\\lib\\site-packages\\mysql\\connector\\connection_cext.py\", line 669, in cmd_query\n",
      "    raise get_mysql_exception(\n",
      "mysql.connector.errors.ProgrammingError: 1054 (42S22): Unknown column 'phno' in 'field list'\n"
     ]
    }
   ],
   "source": [
    "import tkinter as tk\n",
    "from tkinter import messagebox\n",
    "import mysql.connector\n",
    "mydb = mysql.connector.connect(\n",
    "host=\"localhost\",\n",
    "user=\"root\",\n",
    "password=\"root\",\n",
    "database=\"aiml\"\n",
    ")\n",
    "print(mydb)\n",
    "\n",
    "\n",
    "# Create main window\n",
    "root = tk.Tk()\n",
    "root.title(\"Registration Form\")\n",
    "root.geometry(\"400x200\")\n",
    "\n",
    "def clear_fields():\n",
    "    name_entry.delete(0, tk.END)\n",
    "    dob_entry.delete(0, tk.END)\n",
    "    ph_no_entry.delete(0, tk.END)\n",
    "\n",
    "def submit_form():\n",
    "    name = name_entry.get()\n",
    "    dob = dob_entry.get()\n",
    "    ph_no = ph_no_entry.get()\n",
    "\n",
    "    if name and dob and ph_no:\n",
    "        messagebox.showinfo(\"Registration Successful\", f\"Name: {name}\\nDOB: {dob}\\nPhone Number: {ph_no}\")\n",
    "    else:\n",
    "        messagebox.showwarning(\"Incomplete Form\", \"Please fill in all fields.\")\n",
    "\n",
    "    mycursor = mydb.cursor()\n",
    "    sql = \"INSERT INTO student (Sname, DOB,phno) VALUES (%s, %s,%s)\"\n",
    "    val = (name,dob,ph_no)\n",
    "    mycursor.execute(sql, val)\n",
    "    mydb.commit()    \n",
    "    print(mycursor.rowcount, \"record inserted.\")\n",
    "    #.......\n",
    "    # mycursor.execute(\"SELECT * FROM student\")\n",
    "    # myresult = mycursor.fetchall()\n",
    "    # for x in myresult:\n",
    "    #     print(x)\n",
    "\n",
    "\n",
    "\n",
    "# Name Label and Entry\n",
    "name_label = tk.Label(root, text=\"Name:\")\n",
    "name_label.grid(row=0, column=0, padx=40, pady=10, sticky=tk.W)\n",
    "name_entry = tk.Entry(root)\n",
    "name_entry.grid(row=0, column=1, padx=40, pady=10)\n",
    "\n",
    "# DOB Label and Entry\n",
    "dob_label = tk.Label(root, text=\"DOB:\")\n",
    "dob_label.grid(row=1, column=0, padx=40, pady=10, sticky=tk.W)\n",
    "dob_entry = tk.Entry(root)\n",
    "dob_entry.grid(row=1, column=1, padx=40, pady=10)\n",
    "\n",
    "# Phone Number Label and Entry\n",
    "ph_no_label = tk.Label(root, text=\"Phone Number:\")\n",
    "ph_no_label.grid(row=2, column=0, padx=40, pady=10, sticky=tk.W)\n",
    "ph_no_entry = tk.Entry(root)\n",
    "ph_no_entry.grid(row=2, column=1, padx=40, pady=10)\n",
    "\n",
    "# Submit Button\n",
    "submit_button = tk.Button(root, text=\"Insert\", command=submit_form,font=\"bold\")\n",
    "submit_button.grid(row=3, column=0, padx=40, pady=20)\n",
    "\n",
    "# Clear Button\n",
    "clear_button = tk.Button(root, text=\"Clear\", command=clear_fields,font=\"bold\")\n",
    "clear_button.grid(row=3, column=1, padx=40, pady=20)\n",
    "\n",
    "root.mainloop()\n",
    "\n",
    "\n",
    "\n",
    "\n",
    "\n",
    "\n",
    "\n",
    "\n"
   ]
  },
  {
   "cell_type": "code",
   "execution_count": 2,
   "id": "4a7109b9",
   "metadata": {},
   "outputs": [
    {
     "name": "stdout",
     "output_type": "stream",
     "text": [
      "Collecting mysql-connector-python\n",
      "  Downloading mysql_connector_python-8.3.0-cp310-cp310-win_amd64.whl (15.4 MB)\n",
      "     ---------------------------------------- 15.4/15.4 MB 9.5 MB/s eta 0:00:00\n",
      "Installing collected packages: mysql-connector-python\n",
      "Successfully installed mysql-connector-python-8.3.0\n"
     ]
    },
    {
     "name": "stderr",
     "output_type": "stream",
     "text": [
      "WARNING: You are using pip version 22.0.4; however, version 24.0 is available.\n",
      "You should consider upgrading via the 'c:\\Users\\MMLab\\AppData\\Local\\Programs\\Python\\Python310\\python.exe -m pip install --upgrade pip' command.\n"
     ]
    }
   ],
   "source": [
    "!python -m pip install mysql-connector-python"
   ]
  },
  {
   "cell_type": "code",
   "execution_count": null,
   "id": "ed60fa37",
   "metadata": {},
   "outputs": [],
   "source": []
  },
  {
   "cell_type": "code",
   "execution_count": null,
   "id": "c28e7688",
   "metadata": {},
   "outputs": [],
   "source": []
  },
  {
   "cell_type": "code",
   "execution_count": null,
   "id": "169b5ecc",
   "metadata": {},
   "outputs": [],
   "source": []
  },
  {
   "cell_type": "code",
   "execution_count": null,
   "id": "925c5e08",
   "metadata": {},
   "outputs": [],
   "source": []
  },
  {
   "cell_type": "code",
   "execution_count": null,
   "id": "ec3b76dd",
   "metadata": {},
   "outputs": [],
   "source": []
  },
  {
   "cell_type": "code",
   "execution_count": null,
   "id": "f2180f6e",
   "metadata": {},
   "outputs": [],
   "source": []
  },
  {
   "cell_type": "code",
   "execution_count": null,
   "id": "cf8beba2",
   "metadata": {},
   "outputs": [],
   "source": []
  }
 ],
 "metadata": {
  "kernelspec": {
   "display_name": "Python 3 (ipykernel)",
   "language": "python",
   "name": "python3"
  },
  "language_info": {
   "codemirror_mode": {
    "name": "ipython",
    "version": 3
   },
   "file_extension": ".py",
   "mimetype": "text/x-python",
   "name": "python",
   "nbconvert_exporter": "python",
   "pygments_lexer": "ipython3",
   "version": "3.10.5"
  }
 },
 "nbformat": 4,
 "nbformat_minor": 5
}

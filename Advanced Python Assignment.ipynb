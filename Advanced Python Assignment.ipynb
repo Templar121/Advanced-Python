{
 "cells": [
  {
   "cell_type": "markdown",
   "id": "b4c5f8a2",
   "metadata": {},
   "source": [
    "# Question 1"
   ]
  },
  {
   "cell_type": "code",
   "execution_count": 2,
   "id": "b74146e3",
   "metadata": {},
   "outputs": [
    {
     "name": "stdout",
     "output_type": "stream",
     "text": [
      "Asansol Engineering College\n"
     ]
    }
   ],
   "source": [
    "# Write a Python program to create a text file “itro.txt” in Python and ask the user to open the text file and print its contents in the editor.\n",
    "\n",
    "\n",
    "\n",
    "file = open('itro.txt', 'r')\n",
    "for i in file:\n",
    "    print(i)"
   ]
  },
  {
   "cell_type": "markdown",
   "id": "14e8dadb",
   "metadata": {},
   "source": [
    "# Question 2"
   ]
  },
  {
   "cell_type": "code",
   "execution_count": 4,
   "id": "1df515e3",
   "metadata": {},
   "outputs": [],
   "source": [
    "#  Write a Python program to create a text file “itro.txt” in Python and ask the user to write a single line of text by user input\n",
    "\n",
    "\n",
    "\n",
    "\n",
    "\n",
    "file = open('itro.txt', 'w')\n",
    "a = str(input(\"Enter first statement \"))\n",
    "file.write(a + \" \")\n",
    "file.close()"
   ]
  },
  {
   "cell_type": "markdown",
   "id": "7df814d0",
   "metadata": {},
   "source": [
    "# Question 3"
   ]
  },
  {
   "cell_type": "code",
   "execution_count": 9,
   "id": "9236506f",
   "metadata": {},
   "outputs": [
    {
     "name": "stdout",
     "output_type": "stream",
     "text": [
      "Enter first statement good\n",
      "Enter sceond statement morning\n",
      "Enter third statement sir\n"
     ]
    }
   ],
   "source": [
    "# Write a Python program to create a text file “Myfile.txt” in Python and ask the user to writeseparate 3 lines with three input statements from the user\n",
    "\n",
    "\n",
    "\n",
    "file = open('Myfile.txt', 'w')\n",
    "a = str(input(\"Enter first statement \"))\n",
    "file.write(a + \" \")\n",
    "b = str(input(\"Enter sceond statement \"))\n",
    "file.write(b + \" \")\n",
    "c = str(input(\"Enter third statement \"))\n",
    "file.write(c + \" \")\n",
    "file.close()"
   ]
  },
  {
   "cell_type": "markdown",
   "id": "74f0e03d",
   "metadata": {},
   "source": [
    "# Question 4"
   ]
  },
  {
   "cell_type": "code",
   "execution_count": 11,
   "id": "39a1aeb2",
   "metadata": {},
   "outputs": [
    {
     "name": "stdout",
     "output_type": "stream",
     "text": [
      "goodmorningsir\n"
     ]
    }
   ],
   "source": [
    "# Write a Python program to read a file “Myfile.txt” and print its sentences without spaces.\n",
    "\n",
    "with open('Myfile.txt', 'r') as file:\n",
    "    content = file.read()\n",
    "    sentences = content.split('.')\n",
    "    for sentence in sentences:\n",
    "        print(sentence.replace(' ', ''))\n"
   ]
  },
  {
   "cell_type": "markdown",
   "id": "a9f2f0fd",
   "metadata": {},
   "source": [
    "# Question 5"
   ]
  },
  {
   "cell_type": "code",
   "execution_count": 12,
   "id": "d4223c2a",
   "metadata": {},
   "outputs": [
    {
     "name": "stdout",
     "output_type": "stream",
     "text": [
      "good morning sir\n"
     ]
    }
   ],
   "source": [
    "# Write a Python program to read a file “Myfile.txt” and separately print its sentences on the basis of the spaces.\n",
    "\n",
    "\n",
    "with open('Myfile.txt', 'r') as file:\n",
    "    content = file.read()\n",
    "    sentences = content.split('. ')\n",
    "    for sentence in sentences:\n",
    "        print(sentence.strip())"
   ]
  },
  {
   "cell_type": "markdown",
   "id": "9b914fcd",
   "metadata": {},
   "source": [
    "# Question 6"
   ]
  },
  {
   "cell_type": "code",
   "execution_count": 13,
   "id": "82e3cd0d",
   "metadata": {},
   "outputs": [
    {
     "name": "stdout",
     "output_type": "stream",
     "text": [
      "The number of lowercase characters is: 1\n",
      "The number of uppercase characters is: 0\n"
     ]
    }
   ],
   "source": [
    "# Write a Python program to count the total number of uppercase, lowercase and digits used in the text file “merge.txt”.\n",
    "\n",
    "\n",
    "\n",
    "Str= open('Myfile.txt', 'r')\n",
    "lower=0\n",
    "upper=0\n",
    "for i in Str:\n",
    "      if(i.islower()):\n",
    "            lower+=1\n",
    "      else:\n",
    "            upper+=1\n",
    "print(\"The number of lowercase characters is:\",lower)\n",
    "print(\"The number of uppercase characters is:\",upper)"
   ]
  },
  {
   "cell_type": "code",
   "execution_count": null,
   "id": "11178456",
   "metadata": {},
   "outputs": [],
   "source": []
  },
  {
   "cell_type": "code",
   "execution_count": null,
   "id": "8e562985",
   "metadata": {},
   "outputs": [],
   "source": []
  },
  {
   "cell_type": "code",
   "execution_count": null,
   "id": "b02eaf9f",
   "metadata": {},
   "outputs": [],
   "source": []
  },
  {
   "cell_type": "code",
   "execution_count": null,
   "id": "1d4a05fc",
   "metadata": {},
   "outputs": [],
   "source": []
  }
 ],
 "metadata": {
  "kernelspec": {
   "display_name": "Python 3 (ipykernel)",
   "language": "python",
   "name": "python3"
  },
  "language_info": {
   "codemirror_mode": {
    "name": "ipython",
    "version": 3
   },
   "file_extension": ".py",
   "mimetype": "text/x-python",
   "name": "python",
   "nbconvert_exporter": "python",
   "pygments_lexer": "ipython3",
   "version": "3.9.12"
  }
 },
 "nbformat": 4,
 "nbformat_minor": 5
}

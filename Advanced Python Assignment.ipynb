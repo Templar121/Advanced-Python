{
 "cells": [
  {
   "cell_type": "markdown",
   "id": "b4c5f8a2",
   "metadata": {},
   "source": [
    "# Question 1"
   ]
  },
  {
   "cell_type": "code",
   "execution_count": 2,
   "id": "b74146e3",
   "metadata": {},
   "outputs": [
    {
     "name": "stdout",
     "output_type": "stream",
     "text": [
      "Asansol Engineering College\n"
     ]
    }
   ],
   "source": [
    "# Write a Python program to create a text file “itro.txt” in Python and ask the user to open the text file and print its contents in the editor.\n",
    "\n",
    "\n",
    "\n",
    "file = open('itro.txt', 'r')\n",
    "for i in file:\n",
    "    print(i)"
   ]
  },
  {
   "cell_type": "markdown",
   "id": "14e8dadb",
   "metadata": {},
   "source": [
    "# Question 2"
   ]
  },
  {
   "cell_type": "code",
   "execution_count": 4,
   "id": "1df515e3",
   "metadata": {},
   "outputs": [],
   "source": [
    "#  Write a Python program to create a text file “itro.txt” in Python and ask the user to write a single line of text by user input\n",
    "\n",
    "\n",
    "\n",
    "\n",
    "\n",
    "file = open('itro.txt', 'w')\n",
    "a = str(input(\"Enter first statement \"))\n",
    "file.write(a + \" \")\n",
    "file.close()"
   ]
  },
  {
   "cell_type": "markdown",
   "id": "7df814d0",
   "metadata": {},
   "source": [
    "# Question 3"
   ]
  },
  {
   "cell_type": "code",
   "execution_count": 9,
   "id": "9236506f",
   "metadata": {},
   "outputs": [
    {
     "name": "stdout",
     "output_type": "stream",
     "text": [
      "Enter first statement good\n",
      "Enter sceond statement morning\n",
      "Enter third statement sir\n"
     ]
    }
   ],
   "source": [
    "# Write a Python program to create a text file “Myfile.txt” in Python and ask the user to writeseparate 3 lines with three input statements from the user\n",
    "\n",
    "\n",
    "\n",
    "file = open('Myfile.txt', 'w')\n",
    "a = str(input(\"Enter first statement \"))\n",
    "file.write(a + \" \")\n",
    "b = str(input(\"Enter sceond statement \"))\n",
    "file.write(b + \" \")\n",
    "c = str(input(\"Enter third statement \"))\n",
    "file.write(c + \" \")\n",
    "file.close()"
   ]
  },
  {
   "cell_type": "markdown",
   "id": "74f0e03d",
   "metadata": {},
   "source": [
    "# Question 4"
   ]
  },
  {
   "cell_type": "code",
   "execution_count": 11,
   "id": "39a1aeb2",
   "metadata": {},
   "outputs": [
    {
     "name": "stdout",
     "output_type": "stream",
     "text": [
      "goodmorningsir\n"
     ]
    }
   ],
   "source": [
    "# Write a Python program to read a file “Myfile.txt” and print its sentences without spaces.\n",
    "\n",
    "with open('Myfile.txt', 'r') as file:\n",
    "    content = file.read()\n",
    "    sentences = content.split('.')\n",
    "    for sentence in sentences:\n",
    "        print(sentence.replace(' ', ''))\n"
   ]
  },
  {
   "cell_type": "markdown",
   "id": "a9f2f0fd",
   "metadata": {},
   "source": [
    "# Question 5"
   ]
  },
  {
   "cell_type": "code",
   "execution_count": 12,
   "id": "d4223c2a",
   "metadata": {},
   "outputs": [
    {
     "name": "stdout",
     "output_type": "stream",
     "text": [
      "good morning sir\n"
     ]
    }
   ],
   "source": [
    "# Write a Python program to read a file “Myfile.txt” and separately print its sentences on the basis of the spaces.\n",
    "\n",
    "\n",
    "with open('Myfile.txt', 'r') as file:\n",
    "    content = file.read()\n",
    "    sentences = content.split('. ')\n",
    "    for sentence in sentences:\n",
    "        print(sentence.strip())"
   ]
  },
  {
   "cell_type": "markdown",
   "id": "9b914fcd",
   "metadata": {},
   "source": [
    "# Question 6"
   ]
  },
  {
   "cell_type": "code",
   "execution_count": 13,
   "id": "82e3cd0d",
   "metadata": {},
   "outputs": [
    {
     "name": "stdout",
     "output_type": "stream",
     "text": [
      "The number of lowercase characters is: 1\n",
      "The number of uppercase characters is: 0\n"
     ]
    }
   ],
   "source": [
    "# Write a Python program to count the total number of uppercase, lowercase and digits used in the text file “merge.txt”.\n",
    "\n",
    "\n",
    "\n",
    "Str= open('Myfile.txt', 'r')\n",
    "lower=0\n",
    "upper=0\n",
    "for i in Str:\n",
    "      if(i.islower()):\n",
    "            lower+=1\n",
    "      else:\n",
    "            upper+=1\n",
    "print(\"The number of lowercase characters is:\",lower)\n",
    "print(\"The number of uppercase characters is:\",upper)"
   ]
  },
  {
   "cell_type": "markdown",
   "id": "7a9d2a01-0733-4c01-969c-212dfec9436d",
   "metadata": {},
   "source": [
    "# Question 7"
   ]
  },
  {
   "cell_type": "code",
   "execution_count": null,
   "id": "219addf8-56b8-417a-97e7-63ea462878a0",
   "metadata": {},
   "outputs": [],
   "source": [
    "# Write a Python program to count the number of Vowels and Consonants used in the text file “english.txt”.\n",
    "\n",
    "\n",
    "\n",
    "vowels = \"aeiouAEIOU\"\n",
    "consonants = \"bcdfghjklmnpqrstvwxyzBCDFGHJKLMNPQRSTVWXYZ\"\n",
    "\n",
    "file_name = \"english.txt\"\n",
    "\n",
    "try:\n",
    "    with open(file_name, 'r') as file:\n",
    "        text = file.read()\n",
    "        num_vowels = sum(1 for char in text if char in vowels)\n",
    "        num_consonants = sum(1 for char in text if char in consonants)\n",
    "        print(\"Number of vowels:\", num_vowels)\n",
    "        print(\"Number of consonants:\", num_consonants)\n",
    "except FileNotFoundError:\n",
    "    print(\"File not found.\")\n",
    "\n"
   ]
  },
  {
   "cell_type": "markdown",
   "id": "f832a1ec-00ff-41c9-8abc-3c6b56d9dfe4",
   "metadata": {},
   "source": [
    "# Question 8"
   ]
  },
  {
   "cell_type": "code",
   "execution_count": null,
   "id": "90262dd8-6d04-4115-a5d5-58159eb8a35a",
   "metadata": {},
   "outputs": [],
   "source": [
    "# Write a Python program to count how many copies of a given word exist in a file and add the count of that word in the file.\n",
    "\n",
    "file_name = \"english.txt\"\n",
    "word_to_count = input(\"Enter the word to count: \")\n",
    "\n",
    "try:\n",
    "    with open(file_name, 'r') as file:\n",
    "        text = file.read()\n",
    "        word_count = text.count(word_to_count)\n",
    "\n",
    "    with open(file_name, 'a') as file:\n",
    "        file.write(\"\\n\" + f\"{word_to_count}: {word_count}\")\n",
    "\n",
    "    print(f\"Added count of '{word_to_count}': {word_count}\")\n",
    "except FileNotFoundError:\n",
    "    print(\"File not found.\")\n"
   ]
  },
  {
   "cell_type": "markdown",
   "id": "91b38686-41cb-48f7-8d4b-3058f2ae24a2",
   "metadata": {},
   "source": [
    "# Question 9"
   ]
  },
  {
   "cell_type": "code",
   "execution_count": null,
   "id": "a4875351-a7ca-4f77-8cd6-31c5106d7bd1",
   "metadata": {},
   "outputs": [],
   "source": [
    "# Write a Python program to input „n‟ numbers and store even numbers in event.txt and add in add.txt.\n",
    "\n",
    "n = int(input(\"Enter the value of n: \"))\n",
    "\n",
    "with open(\"even.txt\", \"w\") as even_file, open(\"add.txt\", \"w\") as add_file:\n",
    "    for _ in range(n):\n",
    "        num = int(input(\"Enter a number: \"))\n",
    "        if num % 2 == 0:\n",
    "            even_file.write(str(num) + \"\\n\")\n",
    "        add_file.write(str(num) + \"\\n\")\n"
   ]
  },
  {
   "cell_type": "markdown",
   "id": "f991dbf3-c72e-42ff-80e5-7abec9d6f736",
   "metadata": {},
   "source": [
    "# Question 10"
   ]
  },
  {
   "cell_type": "code",
   "execution_count": null,
   "id": "bad4e7bb-947c-4283-8979-c59f36a0c3df",
   "metadata": {},
   "outputs": [],
   "source": [
    "# Write a Python program to read the contents of the file “file.txt” and change the existing line of text into an Abbreviation. For ex – “Asansol Engineering College to AEC”\n",
    "\n",
    "file_name = \"file.txt\"\n",
    "abbreviation = \"\"\n",
    "\n",
    "try:\n",
    "    with open(file_name, 'r') as file:\n",
    "        lines = file.readlines()\n",
    "        if lines:\n",
    "            abbreviation = ''.join(word[0] for word in lines[0].split()).upper()\n",
    "            lines[0] = abbreviation + '\\n'\n",
    "\n",
    "    with open(file_name, 'w') as file:\n",
    "        file.writelines(lines)\n",
    "    print(\"Abbreviation has been successfully added.\")\n",
    "except FileNotFoundError:\n",
    "    print(\"File not found.\")\n"
   ]
  },
  {
   "cell_type": "markdown",
   "id": "60138f6f-3a33-4fc7-a398-836d6a0a239b",
   "metadata": {},
   "source": [
    "# Question 11"
   ]
  },
  {
   "cell_type": "code",
   "execution_count": 2,
   "id": "b02eaf9f",
   "metadata": {},
   "outputs": [],
   "source": [
    "import tkinter as tk\n",
    "\n",
    "def button_click(value):\n",
    "    current = entry.get()\n",
    "    entry.delete(0, tk.END)\n",
    "    entry.insert(tk.END, current + value)\n",
    "\n",
    "def clear():\n",
    "    entry.delete(0, tk.END)\n",
    "\n",
    "def calculate():\n",
    "    try:\n",
    "        result = eval(entry.get())\n",
    "        entry.delete(0, tk.END)\n",
    "        entry.insert(tk.END, str(result))\n",
    "    except Exception as e:\n",
    "        entry.delete(0, tk.END)\n",
    "        entry.insert(tk.END, \"Error\")\n",
    "\n",
    "root = tk.Tk()\n",
    "root.title(\"Calculator\")\n",
    "\n",
    "entry = tk.Entry(root, width=35, borderwidth=5)\n",
    "entry.grid(row=0, column=0, columnspan=4, padx=10, pady=10)\n",
    "\n",
    "buttons = [\n",
    "    ('7', 1, 0), ('8', 1, 1), ('9', 1, 2), ('/', 1, 3),\n",
    "    ('4', 2, 0), ('5', 2, 1), ('6', 2, 2), ('*', 2, 3),\n",
    "    ('1', 3, 0), ('2', 3, 1), ('3', 3, 2), ('-', 3, 3),\n",
    "    ('0', 4, 0), ('.', 4, 1), ('=', 4, 2), ('+', 4, 3),\n",
    "    ('C', 5, 0)\n",
    "]\n",
    "\n",
    "for (text, row, col) in buttons:\n",
    "    if text == '=':\n",
    "        button = tk.Button(root, text=text, padx=40, pady=10, command=calculate)\n",
    "    elif text == 'C':\n",
    "        button = tk.Button(root, text=text, padx=94, pady=10, command=clear)\n",
    "    else:\n",
    "        button = tk.Button(root, text=text, padx=20, pady=10, command=lambda text=text: button_click(text))\n",
    "    button.grid(row=row, column=col, padx=5, pady=5)\n",
    "\n",
    "root.mainloop()\n"
   ]
  },
  {
   "cell_type": "markdown",
   "id": "9c52c3c3-5e0f-419a-9bf0-7a35c5e39b41",
   "metadata": {},
   "source": [
    "# Question 12"
   ]
  },
  {
   "cell_type": "code",
   "execution_count": 3,
   "id": "bf1d5485-354a-48a1-bf77-55dde07f7b47",
   "metadata": {},
   "outputs": [],
   "source": [
    "# Make a form using Tkinter.\n",
    "\n",
    "import tkinter as tk\n",
    "\n",
    "def submit_form():\n",
    "    name = entry_name.get()\n",
    "    email = entry_email.get()\n",
    "    password = entry_password.get()\n",
    "    \n",
    "    print(\"Name:\", name)\n",
    "    print(\"Email:\", email)\n",
    "    print(\"Password:\", password)\n",
    "    \n",
    "    # You can add further processing or validation here\n",
    "\n",
    "root = tk.Tk()\n",
    "root.title(\"Simple Form\")\n",
    "\n",
    "label_name = tk.Label(root, text=\"Name:\")\n",
    "label_name.grid(row=0, column=0, padx=10, pady=5, sticky=tk.E)\n",
    "entry_name = tk.Entry(root)\n",
    "entry_name.grid(row=0, column=1, padx=10, pady=5)\n",
    "\n",
    "label_email = tk.Label(root, text=\"Email:\")\n",
    "label_email.grid(row=1, column=0, padx=10, pady=5, sticky=tk.E)\n",
    "entry_email = tk.Entry(root)\n",
    "entry_email.grid(row=1, column=1, padx=10, pady=5)\n",
    "\n",
    "label_password = tk.Label(root, text=\"Password:\")\n",
    "label_password.grid(row=2, column=0, padx=10, pady=5, sticky=tk.E)\n",
    "entry_password = tk.Entry(root, show=\"*\")\n",
    "entry_password.grid(row=2, column=1, padx=10, pady=5)\n",
    "\n",
    "submit_button = tk.Button(root, text=\"Submit\", command=submit_form)\n",
    "submit_button.grid(row=3, column=0, columnspan=2, padx=10, pady=10)\n",
    "\n",
    "root.mainloop()\n"
   ]
  },
  {
   "cell_type": "markdown",
   "id": "3516c017-cfde-4032-b4fb-733b5a36ee11",
   "metadata": {},
   "source": [
    "# Question 13"
   ]
  },
  {
   "cell_type": "code",
   "execution_count": 5,
   "id": "3ef4a497-841d-419d-9850-32bd2bb06405",
   "metadata": {},
   "outputs": [],
   "source": [
    "# Make a form consisting of 2 windows using Tkinter\n",
    "\n",
    "import tkinter as tk\n",
    "\n",
    "def open_second_window():\n",
    "    global name\n",
    "    name = entry_name.get()\n",
    "    second_window = tk.Toplevel(root)\n",
    "    second_window.title(\"Second Window\")\n",
    "    \n",
    "    label_email = tk.Label(second_window, text=\"Email:\")\n",
    "    label_email.grid(row=0, column=0, padx=10, pady=5, sticky=tk.E)\n",
    "    global entry_email\n",
    "    entry_email = tk.Entry(second_window)\n",
    "    entry_email.grid(row=0, column=1, padx=10, pady=5)\n",
    "    \n",
    "    submit_button = tk.Button(second_window, text=\"Submit\", command=submit_form)\n",
    "    submit_button.grid(row=1, column=0, columnspan=2, padx=10, pady=10)\n",
    "\n",
    "def submit_form():\n",
    "    email = entry_email.get()\n",
    "    \n",
    "    print(\"Name:\", name)\n",
    "    print(\"Email:\", email)\n",
    "    \n",
    "    # You can add further processing or validation here\n",
    "\n",
    "root = tk.Tk()\n",
    "root.title(\"First Window\")\n",
    "\n",
    "label_name = tk.Label(root, text=\"Name:\")\n",
    "label_name.grid(row=0, column=0, padx=10, pady=5, sticky=tk.E)\n",
    "entry_name = tk.Entry(root)\n",
    "entry_name.grid(row=0, column=1, padx=10, pady=5)\n",
    "\n",
    "next_button = tk.Button(root, text=\"Next\", command=open_second_window)\n",
    "next_button.grid(row=1, column=0, columnspan=2, padx=10, pady=10)\n",
    "\n",
    "root.mainloop()\n"
   ]
  },
  {
   "cell_type": "markdown",
   "id": "097bb17c-ffec-4235-9152-e4b83b96cea4",
   "metadata": {},
   "source": [
    "# Question 14"
   ]
  },
  {
   "cell_type": "code",
   "execution_count": 6,
   "id": "a53202e6-662a-48e1-bd59-eb3d2ba17cfa",
   "metadata": {},
   "outputs": [
    {
     "name": "stdout",
     "output_type": "stream",
     "text": [
      "Hello\n"
     ]
    }
   ],
   "source": [
    "# Make a form in Tkinter and use a Button in the form to print Hello in the Console.\n",
    "\n",
    "import tkinter as tk\n",
    "\n",
    "def print_hello():\n",
    "    print(\"Hello\")\n",
    "\n",
    "root = tk.Tk()\n",
    "root.title(\"Simple Form\")\n",
    "\n",
    "button_hello = tk.Button(root, text=\"Say Hello\", command=print_hello)\n",
    "button_hello.pack(pady=20)\n",
    "\n",
    "root.mainloop()\n"
   ]
  },
  {
   "cell_type": "markdown",
   "id": "d3118ab4-f620-4cb4-9583-9997adeaca8e",
   "metadata": {},
   "source": [
    "# Question 15"
   ]
  },
  {
   "cell_type": "code",
   "execution_count": 7,
   "id": "982df334-b62a-4dc2-a2b9-9c9bcd47858b",
   "metadata": {},
   "outputs": [],
   "source": [
    "# Make a form in Tkinter to take Student Registration Details, there will be three fields – “Name”, “DOB”, “Phone Number” and SUBMIT button, and a CLEAR button. By clicking on submit button a pop-up message will show to confirm registration, with all details\n",
    "\n",
    "\n",
    "import tkinter as tk\n",
    "from tkinter import messagebox\n",
    "\n",
    "def submit_form():\n",
    "    name = entry_name.get()\n",
    "    dob = entry_dob.get()\n",
    "    phone_number = entry_phone_number.get()\n",
    "    \n",
    "    confirmation_message = f\"Name: {name}\\nDOB: {dob}\\nPhone Number: {phone_number}\\n\\nConfirm registration?\"\n",
    "    confirmation = messagebox.askyesno(\"Confirm Registration\", confirmation_message)\n",
    "    \n",
    "    if confirmation:\n",
    "        messagebox.showinfo(\"Registration Successful\", \"Student registered successfully!\")\n",
    "\n",
    "def clear_form():\n",
    "    entry_name.delete(0, tk.END)\n",
    "    entry_dob.delete(0, tk.END)\n",
    "    entry_phone_number.delete(0, tk.END)\n",
    "\n",
    "root = tk.Tk()\n",
    "root.title(\"Student Registration\")\n",
    "\n",
    "label_name = tk.Label(root, text=\"Name:\")\n",
    "label_name.grid(row=0, column=0, padx=10, pady=5, sticky=tk.E)\n",
    "entry_name = tk.Entry(root)\n",
    "entry_name.grid(row=0, column=1, padx=10, pady=5)\n",
    "\n",
    "label_dob = tk.Label(root, text=\"DOB:\")\n",
    "label_dob.grid(row=1, column=0, padx=10, pady=5, sticky=tk.E)\n",
    "entry_dob = tk.Entry(root)\n",
    "entry_dob.grid(row=1, column=1, padx=10, pady=5)\n",
    "\n",
    "label_phone_number = tk.Label(root, text=\"Phone Number:\")\n",
    "label_phone_number.grid(row=2, column=0, padx=10, pady=5, sticky=tk.E)\n",
    "entry_phone_number = tk.Entry(root)\n",
    "entry_phone_number.grid(row=2, column=1, padx=10, pady=5)\n",
    "\n",
    "submit_button = tk.Button(root, text=\"Submit\", command=submit_form)\n",
    "submit_button.grid(row=3, column=0, padx=10, pady=10)\n",
    "\n",
    "clear_button = tk.Button(root, text=\"Clear\", command=clear_form)\n",
    "clear_button.grid(row=3, column=1, padx=10, pady=10)\n",
    "\n",
    "root.mainloop()\n"
   ]
  },
  {
   "cell_type": "markdown",
   "id": "4f2db41b-0841-4a52-97ce-559f86510b59",
   "metadata": {},
   "source": [
    "# Question 16"
   ]
  },
  {
   "cell_type": "code",
   "execution_count": null,
   "id": "b5ac0298-3144-452a-8e39-dd25d0a236c2",
   "metadata": {},
   "outputs": [],
   "source": [
    "#  Make a database in MySQL workbench.\n",
    "\n",
    "CREATE DATABASE IF NOT EXISTS student_registration;"
   ]
  },
  {
   "cell_type": "markdown",
   "id": "ee5d5dbb-1835-4b5c-af3d-c556a62d93b4",
   "metadata": {},
   "source": [
    "# Question 17"
   ]
  },
  {
   "cell_type": "code",
   "execution_count": null,
   "id": "ada653be-be8f-4558-9bb0-156e5232d916",
   "metadata": {},
   "outputs": [],
   "source": [
    "# Make a table inside the previously created database.\n",
    "\n",
    "USE student_registration;\n",
    "\n",
    "-- Create the students table\n",
    "CREATE TABLE IF NOT EXISTS students (\n",
    "    id INT AUTO_INCREMENT PRIMARY KEY,\n",
    "    name VARCHAR(100) NOT NULL,\n",
    "    dob DATE NOT NULL,\n",
    "    phone_number VARCHAR(20) NOT NULL\n",
    ");"
   ]
  },
  {
   "cell_type": "markdown",
   "id": "c65eeadb-ef94-43a5-9a69-8119ffddcd4a",
   "metadata": {},
   "source": [
    "# Question 18"
   ]
  },
  {
   "cell_type": "code",
   "execution_count": null,
   "id": "cd5f0afb-5856-452e-b561-053149074509",
   "metadata": {},
   "outputs": [],
   "source": [
    "# Make a table in MySQL with the following fields “name”, “DOB”, and “phno” and try adding elements into the table from the MySQL workbench console.\n",
    "\n",
    "\n",
    "CREATE TABLE students (\n",
    "    id INT AUTO_INCREMENT PRIMARY KEY,\n",
    "    name VARCHAR(100) NOT NULL,\n",
    "    DOB DATE NOT NULL,\n",
    "    phno VARCHAR(20) NOT NULL\n",
    ");\n",
    "\n",
    "\n",
    "INSERT INTO students (name, DOB, phno) VALUES ('John Doe', '2000-05-15', '123-456-7890');\n",
    "INSERT INTO students (name, DOB, phno) VALUES ('Jane Smith', '1999-10-20', '987-654-3210');\n"
   ]
  },
  {
   "cell_type": "markdown",
   "id": "534041b6-cc7e-4b98-87b7-7d75634bb4c8",
   "metadata": {},
   "source": [
    "# Question 19"
   ]
  },
  {
   "cell_type": "code",
   "execution_count": null,
   "id": "2b2085ef-3290-45e4-8e01-d653e417b7e3",
   "metadata": {},
   "outputs": [],
   "source": [
    "# . Make a form in Tkinter to take Student Registration Details, there will be three fields– “Name”, “DOB”, “Phone Number” and SUBMIT button, and a CLEAR button. On clicking submit a pop-up message will show to confirm registration. Then link the form input to the database, so that the input is stored in the MySQL database. \n",
    "\n",
    "\n",
    "import tkinter as tk\n",
    "from tkinter import messagebox\n",
    "import mysql.connector\n",
    "\n",
    "def submit_form():\n",
    "    name = entry_name.get()\n",
    "    dob = entry_dob.get()\n",
    "    phone_number = entry_phone_number.get()\n",
    "    \n",
    "    confirmation_message = f\"Name: {name}\\nDOB: {dob}\\nPhone Number: {phone_number}\\n\\nConfirm registration?\"\n",
    "    confirmation = messagebox.askyesno(\"Confirm Registration\", confirmation_message)\n",
    "    \n",
    "    if confirmation:\n",
    "        try:\n",
    "            cursor.execute(\"INSERT INTO students (name, DOB, phno) VALUES (%s, %s, %s)\", (name, dob, phone_number))\n",
    "            db_connection.commit()\n",
    "            messagebox.showinfo(\"Registration Successful\", \"Student registered successfully!\")\n",
    "        except Exception as e:\n",
    "            messagebox.showerror(\"Error\", str(e))\n",
    "            db_connection.rollback()\n",
    "\n",
    "def clear_form():\n",
    "    entry_name.delete(0, tk.END)\n",
    "    entry_dob.delete(0, tk.END)\n",
    "    entry_phone_number.delete(0, tk.END)\n",
    "\n",
    "# Connect to MySQL database\n",
    "db_connection = mysql.connector.connect(\n",
    "    host=\"localhost\",\n",
    "    user=\"your_username\",\n",
    "    password=\"your_password\",\n",
    "    database=\"your_database_name\"\n",
    ")\n",
    "cursor = db_connection.cursor()\n",
    "\n",
    "root = tk.Tk()\n",
    "root.title(\"Student Registration\")\n",
    "\n",
    "label_name = tk.Label(root, text=\"Name:\")\n",
    "label_name.grid(row=0, column=0, padx=10, pady=5, sticky=tk.E)\n",
    "entry_name = tk.Entry(root)\n",
    "entry_name.grid(row=0, column=1, padx=10, pady=5)\n",
    "\n",
    "label_dob = tk.Label(root, text=\"DOB (YYYY-MM-DD):\")\n",
    "label_dob.grid(row=1, column=0, padx=10, pady=5, sticky=tk.E)\n",
    "entry_dob = tk.Entry(root)\n",
    "entry_dob.grid(row=1, column=1, padx=10, pady=5)\n",
    "\n",
    "label_phone_number = tk.Label(root, text=\"Phone Number:\")\n",
    "label_phone_number.grid(row=2, column=0, padx=10, pady=5, sticky=tk.E)\n",
    "entry_phone_number = tk.Entry(root)\n",
    "entry_phone_number.grid(row=2, column=1, padx=10, pady=5)\n",
    "\n",
    "submit_button = tk.Button(root, text=\"Submit\", command=submit_form)\n",
    "submit_button.grid(row=3, column=0, padx=10, pady=10)\n",
    "\n",
    "clear_button = tk.Button(root, text=\"Clear\", command=clear_form)\n",
    "clear_button.grid(row=3, column=1, padx=10, pady=10)\n",
    "\n",
    "root.mainloop()\n"
   ]
  },
  {
   "cell_type": "markdown",
   "id": "85d92ce3-b7aa-43dc-b1f1-18c3fb38f6b0",
   "metadata": {},
   "source": [
    "# Question 20"
   ]
  },
  {
   "cell_type": "code",
   "execution_count": null,
   "id": "6b396ac4-3133-41d8-861a-c3f02715aa26",
   "metadata": {},
   "outputs": [],
   "source": [
    "#  Write a Python code to display the previously inputted data of the registration forminto the Python Code editor in the form of a table, taken from the existing MySQLdatabase.\n",
    "\n",
    "import mysql.connector\n",
    "import pandas as pd\n",
    "\n",
    "# Connect to MySQL database\n",
    "db_connection = mysql.connector.connect(\n",
    "    host=\"localhost\",\n",
    "    user=\"your_username\",\n",
    "    password=\"your_password\",\n",
    "    database=\"your_database_name\"\n",
    ")\n",
    "cursor = db_connection.cursor()\n",
    "\n",
    "# Execute SQL query to fetch data from the database\n",
    "cursor.execute(\"SELECT * FROM students\")\n",
    "\n",
    "# Fetch all rows from the result set\n",
    "rows = cursor.fetchall()\n",
    "\n",
    "# Close database connection\n",
    "cursor.close()\n",
    "db_connection.close()\n",
    "\n",
    "# Convert fetched data into a DataFrame\n",
    "columns = [desc[0] for desc in cursor.description]  # Get column names from cursor description\n",
    "df = pd.DataFrame(rows, columns=columns)\n",
    "\n",
    "# Display DataFrame\n",
    "print(df)\n"
   ]
  },
  {
   "cell_type": "markdown",
   "id": "40b7aa8d-e605-4c4f-8d22-ca0a92112574",
   "metadata": {},
   "source": [
    "# Question 21"
   ]
  },
  {
   "cell_type": "code",
   "execution_count": null,
   "id": "e4021eb8-759c-41b9-9765-c44ff8e6d2b7",
   "metadata": {},
   "outputs": [],
   "source": [
    "# Write a Python Program to print Harshad number Using exception handling\n",
    "\n",
    "def is_harshad_number(num):\n",
    "    try:\n",
    "        sum_of_digits = sum(int(digit) for digit in str(num))\n",
    "        if num % sum_of_digits == 0:\n",
    "            return True\n",
    "        else:\n",
    "            return False\n",
    "    except ZeroDivisionError:\n",
    "        return False\n",
    "\n",
    "def print_harshad_numbers(start, end):\n",
    "    print(\"Harshad numbers within the range\", start, \"to\", end, \"are:\")\n",
    "    for num in range(start, end + 1):\n",
    "        if is_harshad_number(num):\n",
    "            print(num)\n",
    "\n",
    "try:\n",
    "    start = int(input(\"Enter the start of the range: \"))\n",
    "    end = int(input(\"Enter the end of the range: \"))\n",
    "\n",
    "    if start > end:\n",
    "        print(\"Invalid range! End of the range must be greater than or equal to the start.\")\n",
    "    else:\n",
    "        print_harshad_numbers(start, end)\n",
    "except ValueError:\n",
    "    print(\"Invalid input! Please enter valid integers for the range.\")\n"
   ]
  },
  {
   "cell_type": "markdown",
   "id": "ec05cfbe-a9d4-40e4-8fac-1a24661dbc4a",
   "metadata": {},
   "source": [
    "# Question 22"
   ]
  },
  {
   "cell_type": "code",
   "execution_count": null,
   "id": "3b9a5b7c-61f6-4bf3-b272-e69f81b368d9",
   "metadata": {},
   "outputs": [],
   "source": [
    "#  Write a Program to print the reciprocal of even number using exception handling .\n",
    "\n",
    "def reciprocal_of_even(number):\n",
    "    try:\n",
    "        if number % 2 == 0:\n",
    "            reciprocal = 1 / number\n",
    "            print(f\"The reciprocal of {number} is: {reciprocal}\")\n",
    "        else:\n",
    "            raise ValueError(\"Number is not even.\")\n",
    "    except ZeroDivisionError:\n",
    "        print(\"Error: Cannot calculate reciprocal of zero.\")\n",
    "    except ValueError as ve:\n",
    "        print(f\"Error: {ve}\")\n",
    "\n",
    "try:\n",
    "    num = int(input(\"Enter an even number: \"))\n",
    "    reciprocal_of_even(num)\n",
    "except ValueError:\n",
    "    print(\"Error: Invalid input. Please enter an integer.\")\n"
   ]
  },
  {
   "cell_type": "markdown",
   "id": "46952e1b-39e9-4349-bfb9-f07b4d04a421",
   "metadata": {},
   "source": [
    "# Question 23"
   ]
  },
  {
   "cell_type": "code",
   "execution_count": null,
   "id": "42445590-d0d9-4cb8-93b1-1b5777daa5af",
   "metadata": {},
   "outputs": [],
   "source": [
    "# Write a Program to print Perfect division function using except handling.\n",
    "\n",
    "def perfect_division(dividend, divisor):\n",
    "    try:\n",
    "        result = dividend / divisor\n",
    "        print(f\"{dividend} divided by {divisor} is: {result}\")\n",
    "    except ZeroDivisionError:\n",
    "        print(\"Error: Division by zero is not allowed.\")\n",
    "\n",
    "# Test the function\n",
    "try:\n",
    "    dividend = int(input(\"Enter the dividend: \"))\n",
    "    divisor = int(input(\"Enter the divisor: \"))\n",
    "    perfect_division(dividend, divisor)\n",
    "except ValueError:\n",
    "    print(\"Error: Invalid input. Please enter integers.\")\n"
   ]
  },
  {
   "cell_type": "markdown",
   "id": "1f330326-e633-47c9-a882-237c72593df5",
   "metadata": {},
   "source": [
    "# Question 24"
   ]
  },
  {
   "cell_type": "code",
   "execution_count": null,
   "id": "8c83a12c-eab2-4543-bb69-1ed586551c7a",
   "metadata": {},
   "outputs": [],
   "source": [
    "# Write a Program to Print Perfect division function with cleanup action using exception handling\n",
    "\n",
    "def perfect_division(dividend, divisor):\n",
    "    try:\n",
    "        result = dividend / divisor\n",
    "        print(f\"{dividend} divided by {divisor} is: {result}\")\n",
    "    except ZeroDivisionError:\n",
    "        print(\"Error: Division by zero is not allowed.\")\n",
    "    finally:\n",
    "        print(\"Cleanup: This code block is always executed.\")\n",
    "\n",
    "# Test the function\n",
    "try:\n",
    "    dividend = int(input(\"Enter the dividend: \"))\n",
    "    divisor = int(input(\"Enter the divisor: \"))\n",
    "    perfect_division(dividend, divisor)\n",
    "except ValueError:\n",
    "    print(\"Error: Invalid input. Please enter integers.\")\n"
   ]
  },
  {
   "cell_type": "markdown",
   "id": "fb307604-bf5e-42af-b231-c1731f7cd239",
   "metadata": {},
   "source": [
    "# Question 25"
   ]
  },
  {
   "cell_type": "code",
   "execution_count": null,
   "id": "a92fc26f-2ece-4dc9-9be7-ca3929580db7",
   "metadata": {},
   "outputs": [],
   "source": [
    "# Write a Program to Print Disarium number program using exception handling.\n",
    "\n",
    "def is_disarium_number(num):\n",
    "    try:\n",
    "        # Convert number to string to iterate through its digits\n",
    "        num_str = str(num)\n",
    "        \n",
    "        # Calculate the sum of digits powered with their respective positions\n",
    "        digit_sum = sum(int(digit) ** (index + 1) for index, digit in enumerate(num_str))\n",
    "        \n",
    "        # Check if the sum equals the original number\n",
    "        if digit_sum == num:\n",
    "            return True\n",
    "        else:\n",
    "            return False\n",
    "    except ValueError:\n",
    "        return False\n",
    "\n",
    "try:\n",
    "    number = int(input(\"Enter a number to check if it's a Disarium number: \"))\n",
    "    \n",
    "    if is_disarium_number(number):\n",
    "        print(f\"{number} is a Disarium number.\")\n",
    "    else:\n",
    "        print(f\"{number} is not a Disarium number.\")\n",
    "except ValueError:\n",
    "    print(\"Error: Invalid input. Please enter an integer.\")\n"
   ]
  },
  {
   "cell_type": "code",
   "execution_count": null,
   "id": "e6b06f87-1e2c-489f-aa7c-d0031a217f65",
   "metadata": {},
   "outputs": [],
   "source": []
  }
 ],
 "metadata": {
  "kernelspec": {
   "display_name": "Python 3 (ipykernel)",
   "language": "python",
   "name": "python3"
  },
  "language_info": {
   "codemirror_mode": {
    "name": "ipython",
    "version": 3
   },
   "file_extension": ".py",
   "mimetype": "text/x-python",
   "name": "python",
   "nbconvert_exporter": "python",
   "pygments_lexer": "ipython3",
   "version": "3.11.7"
  }
 },
 "nbformat": 4,
 "nbformat_minor": 5
}
